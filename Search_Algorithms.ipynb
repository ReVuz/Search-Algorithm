{
  "cells": [
    {
      "cell_type": "markdown",
      "metadata": {
        "id": "ImP9AzJ-ntli"
      },
      "source": [
        "# **BREADTH FIRST SEARCH(BFS) :**"
      ]
    },
    {
      "cell_type": "code",
      "execution_count": 50,
      "metadata": {
        "colab": {
          "base_uri": "https://localhost:8080/"
        },
        "id": "KREk-2RDgY-j",
        "outputId": "fc14437a-1a49-46c9-bdc7-67314f92258c"
      },
      "outputs": [
        {
          "output_type": "stream",
          "name": "stdout",
          "text": [
            "BFS traversal : \n",
            "{1}\n",
            "{1}\n",
            "{1, 2}\n",
            "{1, 2}\n",
            "{1, 2, 3}\n",
            "{1, 2, 3}\n",
            "{1, 2, 3, 4}\n"
          ]
        }
      ],
      "source": [
        "\n",
        "def bfs(graph,root):\n",
        "    visited = set()\n",
        "    to_visit = [root]\n",
        "    print(\"BFS traversal : \")\n",
        "    while to_visit:\n",
        "   #   print(to_visit)\n",
        "      node = to_visit.pop(0)\n",
        "   #   print(to_visit)\n",
        "      visited.add(node)\n",
        "      for i in graph[node]:\n",
        "        if i not in visited:\n",
        "          to_visit.append(i)\n",
        "          print(visited)\n",
        "    print(visited)\n",
        "graph = {1: [2, 3], 2: [3,4,1], 3: [4,2,1], 4: [2, 3]}\n",
        "bfs(graph,1)"
      ]
    },
    {
      "cell_type": "markdown",
      "source": [
        "# **DEPTH FIRST SEARCH**"
      ],
      "metadata": {
        "id": "1WklLXCr0Lxd"
      }
    },
    {
      "cell_type": "code",
      "source": [
        "#dfs using recursion\n",
        "print(\"DFS traversal : \")\n",
        "graph = {'A':['B','C','D'],'B':['E'],'C':['D','E'],'D':[],'E':[]}\n",
        "visited = set()\n",
        "def dfs(visited,graph,root):\n",
        "    if root not in visited:\n",
        "      print(root)\n",
        "      visited.add(root)\n",
        "     # print(visited)\n",
        "      for adjacent in graph[root]:\n",
        "        dfs(visited,graph,adjacent)\n",
        "\n",
        "dfs(visited,graph,'A')"
      ],
      "metadata": {
        "colab": {
          "base_uri": "https://localhost:8080/"
        },
        "id": "_yBCIbKA0RXK",
        "outputId": "314e8c64-a9d9-4bf3-9443-08da69477120"
      },
      "execution_count": 7,
      "outputs": [
        {
          "output_type": "stream",
          "name": "stdout",
          "text": [
            "DFS traversal : \n",
            "A\n",
            "B\n",
            "E\n",
            "C\n",
            "D\n"
          ]
        }
      ]
    },
    {
      "cell_type": "markdown",
      "source": [
        "# **DEPTH LIMITED SEARCH**"
      ],
      "metadata": {
        "id": "RHbHMqixuYVR"
      }
    },
    {
      "cell_type": "code",
      "source": [
        "graph = {\n",
        "    'A':['B','C'],\n",
        "    'B':['D','E'],\n",
        "    'C':['F','G'],\n",
        "    'D':['H','I'],\n",
        "    'E':['J','K'],\n",
        "    'F':['L','M'],\n",
        "    'G':['N','O'],\n",
        "    'H':[],\n",
        "    'I':[],\n",
        "    'J':[],\n",
        "    'K':[],\n",
        "    'L':[],\n",
        "    'M':[],\n",
        "    'N':[],\n",
        "    'O':[]\n",
        "}\n",
        "\n",
        "def DLS(start,goal,path,level,maxD):\n",
        "  path.add(start)\n",
        "  if start == goal:\n",
        "    print('\\nCurrent level : ',level)\n",
        "    return path\n",
        "  if level==maxD:\n",
        "    return False\n",
        "  for child in graph[start]:\n",
        "    if DLS(child,goal,path,level+1,maxD):\n",
        "   #   print('\\nCurrent level : ',level)\n",
        "      return path\n",
        "    path.pop()\n",
        "  return False\n",
        "\n",
        "maxD = int(input(\"Enter the maximum depth : \"))\n",
        "path = set()\n",
        "result = DLS('A','E',path,0,maxD)\n",
        "if(result):\n",
        "    print(\"Path : \",path)\n",
        "else:\n",
        "    print(\"No path available\")"
      ],
      "metadata": {
        "colab": {
          "base_uri": "https://localhost:8080/"
        },
        "id": "OzU1cbBTucp-",
        "outputId": "0a940d21-a68e-4e81-8913-5770af0e4522"
      },
      "execution_count": 37,
      "outputs": [
        {
          "output_type": "stream",
          "name": "stdout",
          "text": [
            "Enter the maximum depth : 3\n",
            "\n",
            "Current level :  2\n",
            "Path :  {'E', 'I', 'H'}\n"
          ]
        }
      ]
    }
  ],
  "metadata": {
    "colab": {
      "provenance": []
    },
    "kernelspec": {
      "display_name": "Python 3",
      "name": "python3"
    },
    "language_info": {
      "name": "python"
    }
  },
  "nbformat": 4,
  "nbformat_minor": 0
}