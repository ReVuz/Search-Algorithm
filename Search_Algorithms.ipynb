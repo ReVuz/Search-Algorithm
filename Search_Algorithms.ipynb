{
  "cells": [
    {
      "cell_type": "markdown",
      "metadata": {
        "id": "ImP9AzJ-ntli"
      },
      "source": [
        "# **BREADTH FIRST SEARCH(BFS) :**"
      ]
    },
    {
      "cell_type": "code",
      "execution_count": 50,
      "metadata": {
        "colab": {
          "base_uri": "https://localhost:8080/"
        },
        "id": "KREk-2RDgY-j",
        "outputId": "fc14437a-1a49-46c9-bdc7-67314f92258c"
      },
      "outputs": [
        {
          "output_type": "stream",
          "name": "stdout",
          "text": [
            "BFS traversal : \n",
            "{1}\n",
            "{1}\n",
            "{1, 2}\n",
            "{1, 2}\n",
            "{1, 2, 3}\n",
            "{1, 2, 3}\n",
            "{1, 2, 3, 4}\n"
          ]
        }
      ],
      "source": [
        "\n",
        "def bfs(graph,root):\n",
        "    visited = set()\n",
        "    to_visit = [root]\n",
        "    print(\"BFS traversal : \")\n",
        "    while to_visit:\n",
        "   #   print(to_visit)\n",
        "      node = to_visit.pop(0)\n",
        "   #   print(to_visit)\n",
        "      visited.add(node)\n",
        "      for i in graph[node]:\n",
        "        if i not in visited:\n",
        "          to_visit.append(i)\n",
        "          print(visited)\n",
        "    print(visited)\n",
        "graph = {1: [2, 3], 2: [3,4,1], 3: [4,2,1], 4: [2, 3]}\n",
        "bfs(graph,1)"
      ]
    }
  ],
  "metadata": {
    "colab": {
      "provenance": []
    },
    "kernelspec": {
      "display_name": "Python 3",
      "name": "python3"
    },
    "language_info": {
      "name": "python"
    }
  },
  "nbformat": 4,
  "nbformat_minor": 0
}